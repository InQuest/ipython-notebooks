{
  "cells": [
    {
      "cell_type": "markdown",
      "source": [
        "# Getting the distant pairs in a set"
      ],
      "metadata": {}
    },
    {
      "cell_type": "markdown",
      "source": [
        "First, import numpy and pandas for generating and manipulating the data."
      ],
      "metadata": {}
    },
    {
      "cell_type": "code",
      "source": [
        "import numpy as np\n",
        "import pandas as pd"
      ],
      "outputs": [],
      "execution_count": 1,
      "metadata": {
        "collapsed": false,
        "outputHidden": false,
        "inputHidden": false
      }
    },
    {
      "cell_type": "markdown",
      "source": [
        "Next, generate a random sample of 7 integers between 100000 and 999999 as `test`."
      ],
      "metadata": {}
    },
    {
      "cell_type": "code",
      "source": [
        "test = np.random.randint(100000, 999999, size=7)\n",
        "test"
      ],
      "outputs": [
        {
          "output_type": "execute_result",
          "execution_count": 46,
          "data": {
            "text/plain": [
              "array([713435, 441293, 560063, 791195, 529616, 143613, 486992])"
            ]
          },
          "metadata": {}
        }
      ],
      "execution_count": 46,
      "metadata": {
        "collapsed": false,
        "outputHidden": false,
        "inputHidden": false
      }
    },
    {
      "cell_type": "markdown",
      "source": [
        "The variable `test` represents a one-dimensional set of values where we want to find the maximum distance between two values in the set, as well as which two values determine the maximum distance.\n",
        "\n",
        "This can be done in three steps:\n",
        "* Take the cartesian product of the set with itself and apply the distance algorithm to every pair.\n",
        "* Find the maximum value in the set of distances.\n",
        "* Determine which pairs in the set produce the maximum distance.\n",
        "\nFirst, the cartesian product of the set with itself can be represented as a pandas DataFrame, where the index and column headers of the DataFrame are the values in the set."
      ],
      "metadata": {}
    },
    {
      "cell_type": "code",
      "source": [
        "df = pd.DataFrame(index=test, columns=test)\n",
        "df"
      ],
      "outputs": [
        {
          "output_type": "execute_result",
          "execution_count": 47,
          "data": {
            "text/plain": [
              "       713435 441293 560063 791195 529616 143613 486992\n",
              "713435    NaN    NaN    NaN    NaN    NaN    NaN    NaN\n",
              "441293    NaN    NaN    NaN    NaN    NaN    NaN    NaN\n",
              "560063    NaN    NaN    NaN    NaN    NaN    NaN    NaN\n",
              "791195    NaN    NaN    NaN    NaN    NaN    NaN    NaN\n",
              "529616    NaN    NaN    NaN    NaN    NaN    NaN    NaN\n",
              "143613    NaN    NaN    NaN    NaN    NaN    NaN    NaN\n",
              "486992    NaN    NaN    NaN    NaN    NaN    NaN    NaN"
            ],
            "text/html": [
              "<div>\n",
              "<style scoped>\n",
              "    .dataframe tbody tr th:only-of-type {\n",
              "        vertical-align: middle;\n",
              "    }\n",
              "\n",
              "    .dataframe tbody tr th {\n",
              "        vertical-align: top;\n",
              "    }\n",
              "\n",
              "    .dataframe thead th {\n",
              "        text-align: right;\n",
              "    }\n",
              "</style>\n",
              "<table border=\"1\" class=\"dataframe\">\n",
              "  <thead>\n",
              "    <tr style=\"text-align: right;\">\n",
              "      <th></th>\n",
              "      <th>713435</th>\n",
              "      <th>441293</th>\n",
              "      <th>560063</th>\n",
              "      <th>791195</th>\n",
              "      <th>529616</th>\n",
              "      <th>143613</th>\n",
              "      <th>486992</th>\n",
              "    </tr>\n",
              "  </thead>\n",
              "  <tbody>\n",
              "    <tr>\n",
              "      <th>713435</th>\n",
              "      <td>NaN</td>\n",
              "      <td>NaN</td>\n",
              "      <td>NaN</td>\n",
              "      <td>NaN</td>\n",
              "      <td>NaN</td>\n",
              "      <td>NaN</td>\n",
              "      <td>NaN</td>\n",
              "    </tr>\n",
              "    <tr>\n",
              "      <th>441293</th>\n",
              "      <td>NaN</td>\n",
              "      <td>NaN</td>\n",
              "      <td>NaN</td>\n",
              "      <td>NaN</td>\n",
              "      <td>NaN</td>\n",
              "      <td>NaN</td>\n",
              "      <td>NaN</td>\n",
              "    </tr>\n",
              "    <tr>\n",
              "      <th>560063</th>\n",
              "      <td>NaN</td>\n",
              "      <td>NaN</td>\n",
              "      <td>NaN</td>\n",
              "      <td>NaN</td>\n",
              "      <td>NaN</td>\n",
              "      <td>NaN</td>\n",
              "      <td>NaN</td>\n",
              "    </tr>\n",
              "    <tr>\n",
              "      <th>791195</th>\n",
              "      <td>NaN</td>\n",
              "      <td>NaN</td>\n",
              "      <td>NaN</td>\n",
              "      <td>NaN</td>\n",
              "      <td>NaN</td>\n",
              "      <td>NaN</td>\n",
              "      <td>NaN</td>\n",
              "    </tr>\n",
              "    <tr>\n",
              "      <th>529616</th>\n",
              "      <td>NaN</td>\n",
              "      <td>NaN</td>\n",
              "      <td>NaN</td>\n",
              "      <td>NaN</td>\n",
              "      <td>NaN</td>\n",
              "      <td>NaN</td>\n",
              "      <td>NaN</td>\n",
              "    </tr>\n",
              "    <tr>\n",
              "      <th>143613</th>\n",
              "      <td>NaN</td>\n",
              "      <td>NaN</td>\n",
              "      <td>NaN</td>\n",
              "      <td>NaN</td>\n",
              "      <td>NaN</td>\n",
              "      <td>NaN</td>\n",
              "      <td>NaN</td>\n",
              "    </tr>\n",
              "    <tr>\n",
              "      <th>486992</th>\n",
              "      <td>NaN</td>\n",
              "      <td>NaN</td>\n",
              "      <td>NaN</td>\n",
              "      <td>NaN</td>\n",
              "      <td>NaN</td>\n",
              "      <td>NaN</td>\n",
              "      <td>NaN</td>\n",
              "    </tr>\n",
              "  </tbody>\n",
              "</table>\n",
              "</div>"
            ]
          },
          "metadata": {}
        }
      ],
      "execution_count": 47,
      "metadata": {
        "collapsed": false,
        "outputHidden": false,
        "inputHidden": false
      }
    },
    {
      "cell_type": "markdown",
      "source": [
        "This creates a n x n DataFrame, where n is the number of values in the set. Since this DataFrame we created without data, all the values are empty.\n",
        "\n",
        "The next set is to apply the distance algorithm which is simply `abs(value1 - value2)` where `value1` and `value2` are both in the set. Applying this algorithm to every cell in the DataFrame is equivalent to calculating the distance between every value in the original set.\n",
        "\nThis is accomplished by using the DataFrame object's `apply()` method, where the argument is a callable function. Since the distance algorithm is simple, a lambda function will suffice. Using `apply()` is always faster than using nested `for` loops because `apply()` is a vectorized operation applied to every value in a row simultaneously. In essence, `apply()` is a O(n) time operation where n is the number of rows and nested `for` loops is a O(n^2) time operation."
      ],
      "metadata": {}
    },
    {
      "cell_type": "code",
      "source": [
        "diff = df.apply(lambda x: abs(x.name - x.index))\n",
        "diff"
      ],
      "outputs": [
        {
          "output_type": "execute_result",
          "execution_count": 55,
          "data": {
            "text/plain": [
              "        713435  441293  560063  791195  529616  143613  486992\n",
              "713435       0  272142  153372   77760  183819  569822  226443\n",
              "441293  272142       0  118770  349902   88323  297680   45699\n",
              "560063  153372  118770       0  231132   30447  416450   73071\n",
              "791195   77760  349902  231132       0  261579  647582  304203\n",
              "529616  183819   88323   30447  261579       0  386003   42624\n",
              "143613  569822  297680  416450  647582  386003       0  343379\n",
              "486992  226443   45699   73071  304203   42624  343379       0"
            ],
            "text/html": [
              "<div>\n",
              "<style scoped>\n",
              "    .dataframe tbody tr th:only-of-type {\n",
              "        vertical-align: middle;\n",
              "    }\n",
              "\n",
              "    .dataframe tbody tr th {\n",
              "        vertical-align: top;\n",
              "    }\n",
              "\n",
              "    .dataframe thead th {\n",
              "        text-align: right;\n",
              "    }\n",
              "</style>\n",
              "<table border=\"1\" class=\"dataframe\">\n",
              "  <thead>\n",
              "    <tr style=\"text-align: right;\">\n",
              "      <th></th>\n",
              "      <th>713435</th>\n",
              "      <th>441293</th>\n",
              "      <th>560063</th>\n",
              "      <th>791195</th>\n",
              "      <th>529616</th>\n",
              "      <th>143613</th>\n",
              "      <th>486992</th>\n",
              "    </tr>\n",
              "  </thead>\n",
              "  <tbody>\n",
              "    <tr>\n",
              "      <th>713435</th>\n",
              "      <td>0</td>\n",
              "      <td>272142</td>\n",
              "      <td>153372</td>\n",
              "      <td>77760</td>\n",
              "      <td>183819</td>\n",
              "      <td>569822</td>\n",
              "      <td>226443</td>\n",
              "    </tr>\n",
              "    <tr>\n",
              "      <th>441293</th>\n",
              "      <td>272142</td>\n",
              "      <td>0</td>\n",
              "      <td>118770</td>\n",
              "      <td>349902</td>\n",
              "      <td>88323</td>\n",
              "      <td>297680</td>\n",
              "      <td>45699</td>\n",
              "    </tr>\n",
              "    <tr>\n",
              "      <th>560063</th>\n",
              "      <td>153372</td>\n",
              "      <td>118770</td>\n",
              "      <td>0</td>\n",
              "      <td>231132</td>\n",
              "      <td>30447</td>\n",
              "      <td>416450</td>\n",
              "      <td>73071</td>\n",
              "    </tr>\n",
              "    <tr>\n",
              "      <th>791195</th>\n",
              "      <td>77760</td>\n",
              "      <td>349902</td>\n",
              "      <td>231132</td>\n",
              "      <td>0</td>\n",
              "      <td>261579</td>\n",
              "      <td>647582</td>\n",
              "      <td>304203</td>\n",
              "    </tr>\n",
              "    <tr>\n",
              "      <th>529616</th>\n",
              "      <td>183819</td>\n",
              "      <td>88323</td>\n",
              "      <td>30447</td>\n",
              "      <td>261579</td>\n",
              "      <td>0</td>\n",
              "      <td>386003</td>\n",
              "      <td>42624</td>\n",
              "    </tr>\n",
              "    <tr>\n",
              "      <th>143613</th>\n",
              "      <td>569822</td>\n",
              "      <td>297680</td>\n",
              "      <td>416450</td>\n",
              "      <td>647582</td>\n",
              "      <td>386003</td>\n",
              "      <td>0</td>\n",
              "      <td>343379</td>\n",
              "    </tr>\n",
              "    <tr>\n",
              "      <th>486992</th>\n",
              "      <td>226443</td>\n",
              "      <td>45699</td>\n",
              "      <td>73071</td>\n",
              "      <td>304203</td>\n",
              "      <td>42624</td>\n",
              "      <td>343379</td>\n",
              "      <td>0</td>\n",
              "    </tr>\n",
              "  </tbody>\n",
              "</table>\n",
              "</div>"
            ]
          },
          "metadata": {}
        }
      ],
      "execution_count": 55,
      "metadata": {
        "collapsed": false,
        "outputHidden": false,
        "inputHidden": false
      }
    },
    {
      "cell_type": "markdown",
      "source": [
        "What did this do? The `apply()` method performs the lambda function on each row and subtracts the name of the row (the index value of the DataFrame) from the index of the row (the column header of the DataFrame).\n",
        "\n",
        "This populates the DataFrame with the absolute value distance between each pair in the original set. Notice how all the values along the diagonal are 0, because a number subtracted from itself is 0. This also indicates that the DataFrame is partitioned into two sections, each a triangle that mirror's the other. This means the max distance is in the DataFrame at least twice.\n",
        "\nThe next step is to find the max distance. This is done by concatenating the columns of the DataFrame together into a single numpy array, then taking the maximum value in the array."
      ],
      "metadata": {}
    },
    {
      "cell_type": "code",
      "source": [
        "flat = pd.concat([diff[col] for col in diff.columns], ignore_index=True)\n",
        "flat"
      ],
      "outputs": [
        {
          "output_type": "execute_result",
          "execution_count": 51,
          "data": {
            "text/plain": [
              "0          0\n",
              "1     272142\n",
              "2     153372\n",
              "3      77760\n",
              "4     183819\n",
              "5     569822\n",
              "6     226443\n",
              "7     272142\n",
              "8          0\n",
              "9     118770\n",
              "10    349902\n",
              "11     88323\n",
              "12    297680\n",
              "13     45699\n",
              "14    153372\n",
              "15    118770\n",
              "16         0\n",
              "17    231132\n",
              "18     30447\n",
              "19    416450\n",
              "20     73071\n",
              "21     77760\n",
              "22    349902\n",
              "23    231132\n",
              "24         0\n",
              "25    261579\n",
              "26    647582\n",
              "27    304203\n",
              "28    183819\n",
              "29     88323\n",
              "30     30447\n",
              "31    261579\n",
              "32         0\n",
              "33    386003\n",
              "34     42624\n",
              "35    569822\n",
              "36    297680\n",
              "37    416450\n",
              "38    647582\n",
              "39    386003\n",
              "40         0\n",
              "41    343379\n",
              "42    226443\n",
              "43     45699\n",
              "44     73071\n",
              "45    304203\n",
              "46     42624\n",
              "47    343379\n",
              "48         0\n",
              "dtype: int64"
            ]
          },
          "metadata": {}
        }
      ],
      "execution_count": 51,
      "metadata": {
        "collapsed": false,
        "outputHidden": false,
        "inputHidden": false
      }
    },
    {
      "cell_type": "code",
      "source": [
        "max = flat.max()\n",
        "max"
      ],
      "outputs": [
        {
          "output_type": "execute_result",
          "execution_count": 52,
          "data": {
            "text/plain": [
              "647582"
            ]
          },
          "metadata": {}
        }
      ],
      "execution_count": 52,
      "metadata": {
        "collapsed": false,
        "outputHidden": false,
        "inputHidden": false
      }
    },
    {
      "cell_type": "markdown",
      "source": [
        "Now that the maximum distance is found, the last step is to determine which two pairs in the original set form the max distance. Since the index and column headers of the DataFrame are the values in the original set, the DataFrame can be filtered for just the max distance value.\n",
        "\nSince the max distance value appears in the DataFrame at least twice, filtering the DataFrame will lead to a resulting 2 x 2 DataFrame where both values in the index and column headers are the distant pairs."
      ],
      "metadata": {}
    },
    {
      "cell_type": "code",
      "source": [
        "filtered = diff[diff == max].dropna(how='all').dropna(how='all', axis=1)\n",
        "filtered"
      ],
      "outputs": [
        {
          "output_type": "execute_result",
          "execution_count": 53,
          "data": {
            "text/plain": [
              "          791195    143613\n",
              "791195       NaN  647582.0\n",
              "143613  647582.0       NaN"
            ],
            "text/html": [
              "<div>\n",
              "<style scoped>\n",
              "    .dataframe tbody tr th:only-of-type {\n",
              "        vertical-align: middle;\n",
              "    }\n",
              "\n",
              "    .dataframe tbody tr th {\n",
              "        vertical-align: top;\n",
              "    }\n",
              "\n",
              "    .dataframe thead th {\n",
              "        text-align: right;\n",
              "    }\n",
              "</style>\n",
              "<table border=\"1\" class=\"dataframe\">\n",
              "  <thead>\n",
              "    <tr style=\"text-align: right;\">\n",
              "      <th></th>\n",
              "      <th>791195</th>\n",
              "      <th>143613</th>\n",
              "    </tr>\n",
              "  </thead>\n",
              "  <tbody>\n",
              "    <tr>\n",
              "      <th>791195</th>\n",
              "      <td>NaN</td>\n",
              "      <td>647582.0</td>\n",
              "    </tr>\n",
              "    <tr>\n",
              "      <th>143613</th>\n",
              "      <td>647582.0</td>\n",
              "      <td>NaN</td>\n",
              "    </tr>\n",
              "  </tbody>\n",
              "</table>\n",
              "</div>"
            ]
          },
          "metadata": {}
        }
      ],
      "execution_count": 53,
      "metadata": {
        "collapsed": false,
        "outputHidden": false,
        "inputHidden": false
      }
    },
    {
      "cell_type": "code",
      "source": [
        "pairs = filtered.index[0], filtered.index[1]\n",
        "pairs"
      ],
      "outputs": [
        {
          "output_type": "execute_result",
          "execution_count": 54,
          "data": {
            "text/plain": [
              "(791195, 143613)"
            ]
          },
          "metadata": {}
        }
      ],
      "execution_count": 54,
      "metadata": {
        "collapsed": false,
        "outputHidden": false,
        "inputHidden": false
      }
    }
  ],
  "metadata": {
    "kernel_info": {
      "name": "python3"
    },
    "language_info": {
      "name": "python",
      "version": "3.6.8",
      "mimetype": "text/x-python",
      "codemirror_mode": {
        "name": "ipython",
        "version": 3
      },
      "pygments_lexer": "ipython3",
      "nbconvert_exporter": "python",
      "file_extension": ".py"
    },
    "kernelspec": {
      "name": "python3",
      "language": "python",
      "display_name": "Python 3"
    },
    "nteract": {
      "version": "0.12.3"
    }
  },
  "nbformat": 4,
  "nbformat_minor": 4
}